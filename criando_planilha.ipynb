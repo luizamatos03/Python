{
 "cells": [
  {
   "cell_type": "code",
   "execution_count": null,
   "metadata": {},
   "outputs": [],
   "source": [
    "import openpyxl"
   ]
  },
  {
   "cell_type": "code",
   "execution_count": null,
   "metadata": {},
   "outputs": [],
   "source": [
    "#criar uma planilha (book)\n",
    "book = openpyxl.Workbook()\n",
    "#como vixualizar páginas existentes\n",
    "print(book.sheetnames)"
   ]
  },
  {
   "cell_type": "code",
   "execution_count": null,
   "metadata": {},
   "outputs": [],
   "source": [
    "#como criar uma página\n",
    "book.create_sheet('Frutas')\n",
    "\n",
    "#como selecionar uma página\n",
    "frutas_page = book['Frutas']\n"
   ]
  },
  {
   "cell_type": "code",
   "execution_count": null,
   "metadata": {},
   "outputs": [],
   "source": [
    "frutas_page.append(['Bananas', 5, 'R$ 3,90'])\n",
    "frutas_page.append(['Maçãs', 3, 'R$ 1,90'])\n",
    "frutas_page.append(['Laranjas', 10, 'R$ 9,90'])\n",
    "frutas_page.append(['Peras', 2, 'R$ 5,90'])\n",
    "frutas_page.append(['Morangos', 20, 'R$ 6,90'])\n",
    "\n",
    "book.save('Planilha de compras.xlsx')"
   ]
  },
  {
   "cell_type": "code",
   "execution_count": null,
   "metadata": {},
   "outputs": [],
   "source": [
    "for rows in frutas_page.iter_rows(min_row=2, max_row=5):\n",
    "    for cell in rows:\n",
    "        print(cell.value, end =' ')"
   ]
  },
  {
   "cell_type": "code",
   "execution_count": null,
   "metadata": {},
   "outputs": [],
   "source": [
    "for rows in frutas_page.iter_rows(min_row=2, max_row=5):\n",
    "    for cell in rows:\n",
    "        if cell.value == 'Banana':\n",
    "            cell. value = 'fruta1'"
   ]
  },
  {
   "cell_type": "code",
   "execution_count": null,
   "metadata": {},
   "outputs": [],
   "source": [
    "#planilha 2\n",
    "book2 = openpyxl.Workbook()\n",
    "\n",
    "book2.create_sheet('computadores')\n",
    "\n",
    "comp_page = book2['computadores']\n",
    "\n",
    "comp_page.append(['Eletrônica', 'Memória Ram', 'Preço'])\n",
    "comp_page.append(['Computador 1', '8gm Ram', 'R$ 2.500,00'])\n",
    "comp_page.append(['Computador 2', '16gb Ram', 'R$ 5.500,00'])\n",
    "comp_page.append(['Computador 3', '32 gb Ram', 'R$ 8.500,00'])"
   ]
  },
  {
   "cell_type": "code",
   "execution_count": null,
   "metadata": {},
   "outputs": [],
   "source": [
    "for rows in comp_page.iter_rows(min_row=1, max_row=4):\n",
    "    print(rows[0].value, rows[1].value, rows[2].value)"
   ]
  },
  {
   "cell_type": "code",
   "execution_count": null,
   "metadata": {},
   "outputs": [],
   "source": []
  }
 ],
 "metadata": {
  "language_info": {
   "name": "python"
  },
  "orig_nbformat": 4
 },
 "nbformat": 4,
 "nbformat_minor": 2
}
