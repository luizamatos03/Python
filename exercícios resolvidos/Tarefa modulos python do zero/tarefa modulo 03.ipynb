{
 "cells": [
  {
   "cell_type": "code",
   "execution_count": null,
   "metadata": {},
   "outputs": [],
   "source": [
    "#Exercicio 01\n",
    "\n",
    "class Bola:\n",
    "    def __init__(self, cor, circ, mat):\n",
    "        self.cor = cor\n",
    "        self.circ = circ\n",
    "        self.mat = mat\n",
    "        \n",
    "#metodos   \n",
    "    def troca(self, novacor):\n",
    "        self.cor = novacor\n",
    "    \n",
    "    def mostra(self):\n",
    "        return self.cor"
   ]
  },
  {
   "cell_type": "code",
   "execution_count": null,
   "metadata": {},
   "outputs": [],
   "source": [
    "b1 = Bola('vermelha', 10, 'plastico')\n",
    "b2 = Bola('amarela', 5, 'pano')\n",
    "b3 = Bola('azul', 8, 'borracha')\n",
    "\n",
    "print(b1.cor,b1.circ, b1.mat)\n",
    "print(b2.cor,b2.circ, b2.mat)\n",
    "print(b3.cor,b3.circ, b3.mat)"
   ]
  },
  {
   "cell_type": "code",
   "execution_count": null,
   "metadata": {},
   "outputs": [],
   "source": [
    "b1.troca(\"amarela\")\n",
    "print(b1.mostra())\n",
    "b2.troca('rosa')\n",
    "print(b2.mostra())\n",
    "b3.troca('verde')\n",
    "print(b3.mostra())"
   ]
  },
  {
   "cell_type": "code",
   "execution_count": null,
   "metadata": {},
   "outputs": [],
   "source": [
    "print(b1.cor,b1.circ, b1.mat)\n",
    "print(b2.cor,b2.circ, b2.mat)\n",
    "print(b3.cor,b3.circ, b3.mat)"
   ]
  },
  {
   "cell_type": "code",
   "execution_count": null,
   "metadata": {},
   "outputs": [],
   "source": [
    "#Exercicio 02\n",
    "\n",
    "class Quadrado:\n",
    "    def __init__(self, tam_lado):\n",
    "        self.tam_lado = tam_lado\n",
    "               \n",
    "#metodos\n",
    "    def trocaLado(self, novo_tam):\n",
    "        self.tam_lado = novo_tam\n",
    "\n",
    "    def novoValor(self):\n",
    "        return self.tam_lado\n",
    "    \n",
    "    def calcArea(self):\n",
    "        self.area = self.tam_lado ** 2\n",
    "        print (\"A área é igual a\" , self.area)"
   ]
  },
  {
   "cell_type": "code",
   "execution_count": null,
   "metadata": {},
   "outputs": [],
   "source": [
    "quad1 = Quadrado(5)\n",
    "print (quad1.tam_lado)"
   ]
  },
  {
   "cell_type": "code",
   "execution_count": null,
   "metadata": {},
   "outputs": [],
   "source": [
    "quad1.trocaLado(7)\n",
    "print(quad1.novoValor())"
   ]
  },
  {
   "cell_type": "code",
   "execution_count": null,
   "metadata": {},
   "outputs": [],
   "source": [
    "quad1.calcArea()"
   ]
  },
  {
   "cell_type": "code",
   "execution_count": null,
   "metadata": {},
   "outputs": [],
   "source": [
    "#Exercicio 03\n",
    "\n",
    "class Retangulo:\n",
    "    def __init__(self, base, altura):\n",
    "        self.base = base\n",
    "        self.altura = altura\n",
    "\n",
    "#métodos\n",
    "    def trocaLado(self, nova_base, nova_alt):\n",
    "        self.base = nova_base\n",
    "        self.altura = nova_alt\n",
    "    \n",
    "    def novoValor(self):\n",
    "        return self.base , self.altura\n",
    "    \n",
    "    def calcArea(self):\n",
    "        self.area = self.base * self.altura\n",
    "        print (\"A área é igual a\" , self.area)"
   ]
  },
  {
   "cell_type": "code",
   "execution_count": null,
   "metadata": {},
   "outputs": [],
   "source": [
    "ret1 = Retangulo(13, 5)\n",
    "print (ret1.base , ret1.altura)"
   ]
  },
  {
   "cell_type": "code",
   "execution_count": null,
   "metadata": {},
   "outputs": [],
   "source": [
    "ret1.trocaLado(21, 10)\n",
    "print(ret1.novoValor())\n",
    "ret1.calcArea()"
   ]
  },
  {
   "cell_type": "code",
   "execution_count": null,
   "metadata": {},
   "outputs": [],
   "source": [
    "#exercicio 04\n",
    "\n",
    "class Pessoa:\n",
    "    def __init__(self, nome, idade, peso, altura):\n",
    "        self.nome = nome\n",
    "        self.idade = idade #18\n",
    "        self.peso = peso \n",
    "        self.altura = altura #150\n",
    "    \n",
    "#métodos\n",
    "    def envelhecer(self, novaidade):\n",
    "        if novaidade <= 21:\n",
    "            self.altura = self.altura + ((novaidade - self.idade) * 0.5)\n",
    "        else:\n",
    "            self.altura = altura\n",
    "        self.idade = novaidade\n",
    "        return self.altura, self.idade    \n",
    "        \n",
    "    def engordar(self, novopeso):\n",
    "        self.peso = novopeso\n",
    "        return self.peso\n",
    "        print(\"O novo peso é\" , self.peso)\n",
    "    \n",
    "    def emagrecer(self, novopeso):\n",
    "        self.peso = novopeso\n",
    "        return self.peso\n",
    "        print(\"O novo peso é\" , self.peso)\n",
    "    \n",
    "    def crescer(self, novaaltura):\n",
    "        return self.altura\n",
    "        print(\"A nova altura é\" , self.altura)"
   ]
  },
  {
   "cell_type": "code",
   "execution_count": null,
   "metadata": {},
   "outputs": [],
   "source": [
    "p1 = Pessoa('Maria', 18, 50, 150)\n",
    "\n",
    "print(p1.nome)\n",
    "print(p1.altura)\n",
    "print(p1.idade)\n",
    "print(p1.peso)"
   ]
  },
  {
   "cell_type": "code",
   "execution_count": null,
   "metadata": {},
   "outputs": [],
   "source": [
    "p1.envelhecer(20)\n",
    "p1.engordar(52)\n",
    "p1.crescer(151)\n",
    "\n",
    "print(p1.nome)\n",
    "print(p1.altura)\n",
    "print(p1.idade)\n",
    "print(p1.peso)"
   ]
  },
  {
   "cell_type": "code",
   "execution_count": null,
   "metadata": {},
   "outputs": [],
   "source": [
    "#Exercicio 05\n",
    "\n",
    "class Carro:\n",
    "    def __init__ (self, cor, ano, fabrica, modelo):\n",
    "        self. cor = cor\n",
    "        self.ano = ano\n",
    "        self.fabrica = fabrica\n",
    "        self.modelo = modelo\n",
    "        self.velocidade = 0\n",
    "\n",
    "#Métodos\n",
    "    def liga_motor(self):\n",
    "        print(\"O carro está ligado.\")\n",
    "            \n",
    "    def desl_motor(self):\n",
    "        print(\"O carro está desligado.\")\n",
    "        self.velocidade = 0\n",
    "       \n",
    "    def func_Farol(self):\n",
    "        farol = input(\"Deseja ligar o farol? s / n:\")\n",
    "        if farol == 's':\n",
    "            print(\"O farol está aceso.\")\n",
    "        else:\n",
    "            print(\"O farol está apagado.\")\n",
    "    \n",
    "    def acelerar(self):\n",
    "        acelera = input(\"Deseja acelerar? s / n:\")\n",
    "        if acelera == 's':\n",
    "            self.velocidade += 5\n",
    "            print (\"A velocidade agora é de\" , self.velocidade)\n",
    "            \n",
    "    def freiar(self):\n",
    "        if self.velocidade > 0:\n",
    "            freio = input(\"Deseja freiar? s / n:\")\n",
    "            if freio == 's':\n",
    "                self.velocidade -= 5\n",
    "                print (\"A velocidade agora é de\" , self.velocidade)\n",
    "        else:\n",
    "            print(\"O carro já está parado.\")"
   ]
  },
  {
   "cell_type": "code",
   "execution_count": null,
   "metadata": {},
   "outputs": [],
   "source": [
    "carro1 = Carro ('azul', 2020, 'ford', 'KA')\n",
    "carro2 = Carro ('verde', 2021, 'fiat', 'Toro')\n",
    "carro3 = Carro ('preto', 2018, 'hyundai', 'HB20')\n",
    "\n",
    "print(carro1.cor, carro1.ano, carro1.fabrica, carro1.modelo)\n",
    "\n",
    "print(carro2.cor, carro2.ano, carro2.fabrica, carro2.modelo)\n",
    "\n",
    "print(carro3.cor, carro3.ano, carro3.fabrica, carro3.modelo)\n"
   ]
  },
  {
   "cell_type": "code",
   "execution_count": null,
   "metadata": {},
   "outputs": [],
   "source": [
    "carro1.liga_motor()\n",
    "carro1.func_Farol ()"
   ]
  },
  {
   "cell_type": "code",
   "execution_count": null,
   "metadata": {},
   "outputs": [],
   "source": [
    "carro1.acelerar()\n",
    "carro1.acelerar()\n",
    "carro1.acelerar()\n",
    "carro1.freiar()\n",
    "carro1.freiar()\n",
    "carro1.freiar()\n",
    "carro1.freiar()"
   ]
  },
  {
   "cell_type": "code",
   "execution_count": null,
   "metadata": {},
   "outputs": [],
   "source": [
    "carro1.desl_motor()"
   ]
  },
  {
   "cell_type": "code",
   "execution_count": null,
   "metadata": {},
   "outputs": [],
   "source": [
    "#Exercicio 6\n",
    "\n",
    "class Conta_corrente:\n",
    "    def __init__(self, num, nome):\n",
    "        self.num = num\n",
    "        self.nome = nome\n",
    "        self.saldo = 0\n",
    "                \n",
    "#Métodos\n",
    "    def alteraNome(self):\n",
    "        novocliente = input('Insira o nome do novo correntista:')\n",
    "        self.nome = novocliente\n",
    "        novaconta = input('Insira a nova conta:')\n",
    "        self.num = novaconta\n",
    "        print('Os novos dados do são', self.nome, self.num)\n",
    "    \n",
    "    def depositar(self):\n",
    "        novosaldo1 = float(input('Insira valor do depósito:'))\n",
    "        self.saldo = self.saldo + novosaldo1\n",
    "        print('Seu novo saldo é', self.saldo)\n",
    "    \n",
    "    def sacar(self):\n",
    "        saque = float(input('Insira valor do saque:'))\n",
    "        if saque <= self.saldo:\n",
    "            self.saldo = self.saldo - saque\n",
    "            print('Saque efetuado. Seu saldo atual é', self.saldo)\n",
    "        else:          \n",
    "            print(\"Saldo insuficiente.\")      "
   ]
  },
  {
   "cell_type": "code",
   "execution_count": null,
   "metadata": {},
   "outputs": [],
   "source": [
    "cliente1 = Conta_corrente(1234, \"Maria\")\n",
    "cliente2 = Conta_corrente(5678, \"João\")\n",
    "cliente3 = Conta_corrente(9874, \"Paulo\")\n",
    "\n",
    "print('O cliente 1 é' , cliente1.num, cliente1.nome)\n",
    "print('O cliente 2 é', cliente2.num, cliente2.nome)\n",
    "print('O cliente 3 é', cliente3.num, cliente3.nome)"
   ]
  },
  {
   "cell_type": "code",
   "execution_count": null,
   "metadata": {},
   "outputs": [],
   "source": [
    "cliente1.alteraNome()"
   ]
  },
  {
   "cell_type": "code",
   "execution_count": null,
   "metadata": {},
   "outputs": [],
   "source": [
    "print(cliente1.nome, cliente1.num)"
   ]
  },
  {
   "cell_type": "code",
   "execution_count": null,
   "metadata": {},
   "outputs": [],
   "source": [
    "cliente1.depositar()"
   ]
  },
  {
   "cell_type": "code",
   "execution_count": null,
   "metadata": {},
   "outputs": [],
   "source": [
    "cliente1.sacar()\n",
    "cliente1.sacar()\n",
    "cliente1.sacar()"
   ]
  },
  {
   "cell_type": "code",
   "execution_count": null,
   "metadata": {},
   "outputs": [],
   "source": [
    "#Exercício 07\n",
    "\n",
    "class Televisão:\n",
    "    def __init__(self, volume, canal):\n",
    "        self.volume = int(volume)\n",
    "        self.canal = int(canal)\n",
    "\n",
    "#Métodos\n",
    "    def maisVol(self):\n",
    "        if self.volume > 0 and self.volume <= 30:\n",
    "            self.volume += 1\n",
    "            print('Volume =', self.volume)\n",
    "        if self.volume >= 30:\n",
    "            self.volume = 30\n",
    "            print('Volume no máximo.')           \n",
    "    \n",
    "    def menosVol(self):\n",
    "        if self.volume >= 1 and self.volume <= 30:\n",
    "            self.volume -= 1\n",
    "            print('Volume =', self.volume)\n",
    "        if self.volume < 0:\n",
    "            self.volume = 0\n",
    "            print('Volume no mínimo', self.volume)\n",
    "    \n",
    "    def alteraCanal(self):\n",
    "        novocanal = int(input('Insira novo canal:'))\n",
    "        if novocanal in range(100):\n",
    "            self.canal = novocanal\n",
    "            print('Novo canal = ', self.canal)\n",
    "        else:\n",
    "            print(\"Canal inexistente.\")\n"
   ]
  },
  {
   "cell_type": "code",
   "execution_count": null,
   "metadata": {},
   "outputs": [],
   "source": [
    "tv1 = Televisão(10, 25)\n",
    "print('Volume = ', tv1.volume, 'Canal =', tv1.canal)"
   ]
  },
  {
   "cell_type": "code",
   "execution_count": null,
   "metadata": {},
   "outputs": [],
   "source": [
    "tv1.alteraCanal()"
   ]
  },
  {
   "cell_type": "code",
   "execution_count": null,
   "metadata": {},
   "outputs": [],
   "source": [
    "tv1.maisVol()"
   ]
  },
  {
   "cell_type": "code",
   "execution_count": null,
   "metadata": {},
   "outputs": [],
   "source": [
    "tv1.menosVol()"
   ]
  },
  {
   "cell_type": "code",
   "execution_count": null,
   "metadata": {},
   "outputs": [],
   "source": [
    "#Exercício 08\n",
    "\n",
    "class BombaComb:\n",
    "    def __init__(self, tipo, valorlt, qntd):\n",
    "        self.tipo = tipo\n",
    "        self.valorlt = valorlt\n",
    "        self.qntd = qntd\n",
    "    \n",
    "#Métodos\n",
    "    def abastecePValor(self):\n",
    "        print(\"Quantidade de combustível disponível: %.2f\" %  self.qntd)\n",
    "        valor = float(input(\"Insira o valor a ser abastecido: \"))\n",
    "        litros = valor / self.valorlt\n",
    "        if litros <= self.qntd:\n",
    "            self.qntd = self.qntd - litros\n",
    "            print (\"A quantidade de litros abastecidos é %.2f\" %  litros)\n",
    "            print(\"A quantidade atual é de %.2f\" % self.qntd)\n",
    "        else:\n",
    "            print(\"Quantidade insuficiente.\")\n",
    "                   \n",
    "        \n",
    "    def abastecePorLitro(self):\n",
    "        litros = float(input(\"Informe a qntd de litros: \"))\n",
    "        if litros <= self.qntd:\n",
    "            valorfinal = litros * self.valorlt\n",
    "            self.qntd = self.qntd - litros\n",
    "            print(\"O valor a ser pago é %.2f\" % valorfinal)\n",
    "            print(\"A quantidade atual é de %.2f\" % self.qntd)      \n",
    "        else:\n",
    "            print(\"Quantidade insuficiente.\")          \n",
    "            \n",
    "            \n",
    "    def alteraValor(self):\n",
    "        print(\"O valor atual do combustível é %.2f\" % self.valorlt)\n",
    "        novovalor = float(input(\"Insira o novo valor por litro: \"))\n",
    "        self.valorlt = novovalor\n",
    "        print (\"Valor alterado para: %.2f\" %  self.valorlt)\n",
    "        \n",
    "        \n",
    "    def alteraComb(self):\n",
    "        print(\"Combustivel atual:\", self.tipo)\n",
    "        tipo = str(input(\"Insira o novo tipo de combustível: \"))\n",
    "        self.tipo = tipo\n",
    "        print (\"Combustível aterado para\", self.tipo)\n",
    "        \n",
    "    def alteraQnt(self):\n",
    "        novaqntd = float(input(\"Insira a nova quantidade: \"))\n",
    "        self.qntd = novaqntd + self.qntd\n",
    "        print(\"A quantidade atual é de %.2f\" % self.qntd)"
   ]
  },
  {
   "cell_type": "code",
   "execution_count": null,
   "metadata": {},
   "outputs": [],
   "source": [
    "bomba1 = BombaComb ('Etanol', 3.99, 10000)\n",
    "bomba2 = BombaComb ('Gasol. Comum', 5.89, 10000)\n",
    "bomba3 = BombaComb ('Diesel', 4.18, 50000)\n",
    "bomba4 = BombaComb ('Gasol. Aditivada', 6.59, 20000)\n",
    "print(bomba1.tipo, bomba1.valorlt, bomba1.qntd)\n",
    "print(bomba2.tipo, bomba2.valorlt, bomba2.qntd)\n",
    "print(bomba3.tipo, bomba3.valorlt, bomba3.qntd)\n",
    "print(bomba4.tipo, bomba4.valorlt, bomba4.qntd)"
   ]
  },
  {
   "cell_type": "code",
   "execution_count": null,
   "metadata": {},
   "outputs": [],
   "source": [
    "bomba1.abastecePValor()"
   ]
  },
  {
   "cell_type": "code",
   "execution_count": null,
   "metadata": {},
   "outputs": [],
   "source": [
    "print(bomba1.tipo, bomba1.valorlt, bomba1.qntd)"
   ]
  },
  {
   "cell_type": "code",
   "execution_count": null,
   "metadata": {},
   "outputs": [],
   "source": [
    "bomba2.abastecePorLitro()"
   ]
  },
  {
   "cell_type": "code",
   "execution_count": null,
   "metadata": {},
   "outputs": [],
   "source": [
    "print(bomba2.tipo, bomba2.valorlt, bomba2.qntd)"
   ]
  },
  {
   "cell_type": "code",
   "execution_count": null,
   "metadata": {},
   "outputs": [],
   "source": [
    "bomba3.alteraValor()"
   ]
  },
  {
   "cell_type": "code",
   "execution_count": null,
   "metadata": {},
   "outputs": [],
   "source": [
    "bomba4.alteraComb()"
   ]
  },
  {
   "cell_type": "code",
   "execution_count": null,
   "metadata": {},
   "outputs": [],
   "source": [
    "bomba1.alteraQnt()\n",
    "bomba1.alteraQnt()"
   ]
  }
 ],
 "metadata": {
  "interpreter": {
   "hash": "926a0b644c70ad0d0d766362c0ed00d32ad85b91ad46a7d6a8080827a4f073d6"
  },
  "kernelspec": {
   "display_name": "Python 3.8.5 64-bit ('base': conda)",
   "language": "python",
   "name": "python3"
  },
  "language_info": {
   "name": "python",
   "version": "3.8.5"
  },
  "orig_nbformat": 4
 },
 "nbformat": 4,
 "nbformat_minor": 2
}
