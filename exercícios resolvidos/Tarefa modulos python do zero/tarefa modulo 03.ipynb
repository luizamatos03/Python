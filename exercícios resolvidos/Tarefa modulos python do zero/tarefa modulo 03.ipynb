{
 "cells": [
  {
   "cell_type": "code",
   "execution_count": null,
   "metadata": {},
   "outputs": [],
   "source": [
    "#Exercicio 01\n",
    "\n",
    "class Bola:\n",
    "    def __init__(self, cor, circ, mat):\n",
    "        self.cor = cor\n",
    "        self.circ = circ\n",
    "        self.mat = mat\n",
    "        \n",
    "#metodos   \n",
    "    def troca(self, novacor):\n",
    "        self.cor = novacor\n",
    "    \n",
    "    def mostra(self):\n",
    "        return self.cor"
   ]
  }
 ],
 "metadata": {
  "interpreter": {
   "hash": "926a0b644c70ad0d0d766362c0ed00d32ad85b91ad46a7d6a8080827a4f073d6"
  },
  "kernelspec": {
   "display_name": "Python 3.8.5 64-bit ('base': conda)",
   "language": "python",
   "name": "python3"
  },
  "language_info": {
   "name": "python",
   "version": "3.8.5"
  },
  "orig_nbformat": 4
 },
 "nbformat": 4,
 "nbformat_minor": 2
}
