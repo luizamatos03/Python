{
 "cells": [
  {
   "cell_type": "code",
   "execution_count": null,
   "metadata": {},
   "outputs": [],
   "source": [
    "#Exercicio 01\n",
    "\n",
    "class Bola:\n",
    "    def __init__(self, cor, circ, mat):\n",
    "        self.cor = cor\n",
    "        self.circ = circ\n",
    "        self.mat = mat\n",
    "        \n",
    "#metodos   \n",
    "    def troca(self, novacor):\n",
    "        self.cor = novacor\n",
    "    \n",
    "    def mostra(self):\n",
    "        return self.cor"
   ]
  },
  {
   "cell_type": "code",
   "execution_count": null,
   "metadata": {},
   "outputs": [],
   "source": [
    "b1 = Bola('vermelha', 10, 'plastico')\n",
    "b2 = Bola('amarela', 5, 'pano')\n",
    "b3 = Bola('azul', 8, 'borracha')\n",
    "\n",
    "print(b1.cor,b1.circ, b1.mat)\n",
    "print(b2.cor,b2.circ, b2.mat)\n",
    "print(b3.cor,b3.circ, b3.mat)"
   ]
  },
  {
   "cell_type": "code",
   "execution_count": null,
   "metadata": {},
   "outputs": [],
   "source": [
    "b1.troca(\"amarela\")\n",
    "print(b1.mostra())\n",
    "b2.troca('rosa')\n",
    "print(b2.mostra())\n",
    "b3.troca('verde')\n",
    "print(b3.mostra())"
   ]
  },
  {
   "cell_type": "code",
   "execution_count": null,
   "metadata": {},
   "outputs": [],
   "source": [
    "print(b1.cor,b1.circ, b1.mat)\n",
    "print(b2.cor,b2.circ, b2.mat)\n",
    "print(b3.cor,b3.circ, b3.mat)"
   ]
  },
  {
   "cell_type": "code",
   "execution_count": null,
   "metadata": {},
   "outputs": [],
   "source": [
    "#Exercicio 02\n",
    "\n",
    "class Quadrado:\n",
    "    def __init__(self, tam_lado):\n",
    "        self.tam_lado = tam_lado\n",
    "               \n",
    "#metodos\n",
    "    def trocaLado(self, novo_tam):\n",
    "        self.tam_lado = novo_tam\n",
    "\n",
    "    def novoValor(self):\n",
    "        return self.tam_lado\n",
    "    \n",
    "    def calcArea(self):\n",
    "        self.area = self.tam_lado ** 2\n",
    "        print (\"A área é igual a\" , self.area)"
   ]
  },
  {
   "cell_type": "code",
   "execution_count": null,
   "metadata": {},
   "outputs": [],
   "source": [
    "quad1 = Quadrado(5)\n",
    "print (quad1.tam_lado)"
   ]
  },
  {
   "cell_type": "code",
   "execution_count": null,
   "metadata": {},
   "outputs": [],
   "source": [
    "quad1.trocaLado(7)\n",
    "print(quad1.novoValor())"
   ]
  },
  {
   "cell_type": "code",
   "execution_count": null,
   "metadata": {},
   "outputs": [],
   "source": [
    "quad1.calcArea()"
   ]
  },
  {
   "cell_type": "code",
   "execution_count": null,
   "metadata": {},
   "outputs": [],
   "source": []
  },
  {
   "cell_type": "code",
   "execution_count": null,
   "metadata": {},
   "outputs": [],
   "source": []
  },
  {
   "cell_type": "code",
   "execution_count": null,
   "metadata": {},
   "outputs": [],
   "source": []
  },
  {
   "cell_type": "code",
   "execution_count": null,
   "metadata": {},
   "outputs": [],
   "source": []
  },
  {
   "cell_type": "code",
   "execution_count": null,
   "metadata": {},
   "outputs": [],
   "source": []
  },
  {
   "cell_type": "code",
   "execution_count": null,
   "metadata": {},
   "outputs": [],
   "source": []
  }
 ],
 "metadata": {
  "interpreter": {
   "hash": "926a0b644c70ad0d0d766362c0ed00d32ad85b91ad46a7d6a8080827a4f073d6"
  },
  "kernelspec": {
   "display_name": "Python 3.8.5 64-bit ('base': conda)",
   "language": "python",
   "name": "python3"
  },
  "language_info": {
   "name": "python",
   "version": "3.8.5"
  },
  "orig_nbformat": 4
 },
 "nbformat": 4,
 "nbformat_minor": 2
}
