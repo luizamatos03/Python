{
 "cells": [
  {
   "cell_type": "code",
   "execution_count": null,
   "metadata": {},
   "outputs": [],
   "source": [
    "# 1.\tCrie um programa que leia nome, sexo e idade de várias pessoas, guardando os dados de cada pessoa em um dicionário e \n",
    "# todos os dicionários em uma lista. No final, mostre:\n",
    "# a)\tQuantas pessoas foram cadastradas\n",
    "# b)\tA média de idade\n",
    "# c)\tUma lista com as mulheres\n",
    "# d)\tUma lista de pessoas com idade acima da média\n",
    "nome = []\n",
    "idade = []\n",
    "mulher = []\n",
    "media = []\n",
    "cont = idademedia = 0\n",
    "\n",
    "d1 = dict()\n",
    "prog = str(input(\"Deseja iniciar o cadastro? s / n: \"))\n",
    "\n",
    "while prog == 's':\n",
    "    d1 = {\n",
    "        'nome': str(input('Digite o nome: ')),\n",
    "        'idade': int(input('Digite a idade: ')),\n",
    "        'sexo': str(input('Digite o sexo F / M: '))\n",
    "    }\n",
    "    if d1['sexo'] == 'F' or d1['sexo'] == 'f':\n",
    "        mulher.append(d1['nome'])\n",
    "    nome.append(d1['nome'])\n",
    "    idade.append(d1['idade'])\n",
    "    if d1['idade'] > idademedia:\n",
    "        media.append(d1[\"nome\"])\n",
    "    cont += 1\n",
    "    idademedia = float(sum(idade) / cont)   \n",
    "    prog = str(input(\"Deseja continuar o cadastro? s / n: \"))\n",
    "        \n",
    "#A)\n",
    "print (\"A quantidade de pessoas cadastradas é:\", cont)\n",
    "#B)\n",
    "print (\"A média de idade é:\", idademedia )\n",
    "#C)\n",
    "print (\"As mulheres cadastradas são:\", mulher)\n",
    "#D)\n",
    "print (\"As pessoas com idade acima da média são:\", media)"
   ]
  },
  {
   "cell_type": "code",
   "execution_count": null,
   "metadata": {},
   "outputs": [],
   "source": [
    "#2.\tEscreva um programa Python para criar uma tupla com números de 1 a 4 e imprima um item\n",
    "\n",
    "tupla1 = (1,2,3,4)\n",
    "\n",
    "print (tupla1 [2])\n",
    "print(type(tupla1))"
   ]
  },
  {
   "cell_type": "code",
   "execution_count": 4,
   "metadata": {},
   "outputs": [
    {
     "name": "stdout",
     "output_type": "stream",
     "text": [
      "aluno\n",
      "universidade\n",
      "nota\n",
      "resultado\n",
      "<class 'tuple'>\n",
      "<class 'str'>\n",
      "<class 'str'>\n",
      "<class 'str'>\n",
      "<class 'str'>\n"
     ]
    }
   ],
   "source": [
    "#3.\tEscreva um programa Python para desempacotar uma tupla em várias variáveis: considere uma tupla = (‘aluno’,’universidade’, ‘nota’, ‘resultado’) \n",
    "# e as variáveis w, x, y, z. Consulte o tipo de dados de cada uma das variáveis e impriva os valores de cada uma delas.\n",
    "\n",
    "tupla2 = ('aluno', 'universidade', 'nota', 'resultado')\n",
    "\n",
    "w, x, y, z = tupla2\n",
    "\n",
    "print(w)\n",
    "print(x)\n",
    "print(y)\n",
    "print(z)\n",
    "\n",
    "print(type(tupla2))\n",
    "print(type(w))\n",
    "print(type(x))\n",
    "print(type(y))\n",
    "print(type(z))"
   ]
  },
  {
   "cell_type": "code",
   "execution_count": null,
   "metadata": {},
   "outputs": [],
   "source": [
    "# 4.\tCrie 3 conjuntos conforme estrutura a seguir:\n",
    "# setx = set([\"apple\", \"mango\"])\n",
    "# sety = set([\"mango\", \"orange\"]) \n",
    "# setz = set([\"mango\"])\n",
    "# Faça as seguintes operações sobre conjuntos:\n",
    "# a)\tFaça a união dos três conjuntos e imprima o resultado\n",
    "\n",
    "setx = set(['apple', 'mango'])\n",
    "sety = set(['mango', 'orange'])\n",
    "setz = set(['mango'])\n",
    "\n",
    "uniao = setx | sety | setz\n",
    "print (uniao)\n",
    "\n",
    "\n",
    "#b)\tVerifique quais os elementos comuns do conjunto setx e sety e imprima o resultado\n",
    "setx = set(['apple', 'mango'])\n",
    "sety = set(['mango', 'orange'])\n",
    "\n",
    "comum = setx & sety\n",
    "print (comum)\n",
    "\n",
    "# c)\tVerifique se o conjunto setx é subconjunto do conjunto sety e setz utilizando\n",
    "setx = set(['apple', 'mango'])\n",
    "sety = set(['mango', 'orange'])\n",
    "setz = set(['mango'])\n",
    "\n",
    "print(setx.issubset(sety))\n",
    "print(setx.issubset(setz))\n",
    "\n",
    "\n",
    "#d)\tVerifique quais elementos do conjunto setx não existem em sety\n",
    "setx = set(['apple', 'mango'])\n",
    "sety = set(['mango', 'orange'])\n",
    "\n",
    "conj = set()\n",
    "conj = setx - sety\n",
    "\n",
    "print (conj)\n"
   ]
  },
  {
   "cell_type": "code",
   "execution_count": null,
   "metadata": {},
   "outputs": [],
   "source": [
    "# 5.\tEscreva um programa Python para inserir um elemento no início de um determinado Dicionário Ordenado.\n",
    "# DicionárioOrdenado original: DicionárioOrdenado ([('color1', 'Red'), ('color2', 'Green'), ('color3', 'Blue')]) \n",
    "# Insira um elemento no início do referido DicionárioOrdenado: \n",
    "# DicionárioOrdenado atualizado: DicionárioOrdenado ([('color4', 'Orange'), ('color1', 'Red'), ('color2', 'Green'), ('color3', 'Blue')])\n",
    "\n",
    "\n",
    "from collections import deque\n",
    "\n",
    "dic_ord = deque([('color1','Red'),('color2','Green'),('color3','Blue')])\n",
    "\n",
    "dic_ord.appendleft(('color4', 'Orange'))\n",
    "\n",
    "print (dic_ord)"
   ]
  },
  {
   "cell_type": "code",
   "execution_count": 5,
   "metadata": {},
   "outputs": [
    {
     "name": "stdout",
     "output_type": "stream",
     "text": [
      "                                                                 monty\n",
      "70\n"
     ]
    }
   ],
   "source": [
    "# 6.\tEscreva uma função chamada right_justify, que receba uma string chamada s como parâmetro e exiba a string com espaços suficientes à frente para que a \n",
    "#  última letra da string esteja na coluna 70 da tela:\n",
    "#>>> right_justify('monty')\n",
    "\n",
    "def right_justify(s):\n",
    "    nome = s.rjust(70)\n",
    "    return nome\n",
    "\n",
    "nome = 'monty'\n",
    "print(right_justify(nome))\n",
    "print(len(right_justify(nome)))"
   ]
  },
  {
   "cell_type": "code",
   "execution_count": 2,
   "metadata": {},
   "outputs": [
    {
     "name": "stdout",
     "output_type": "stream",
     "text": [
      "Luiza\n",
      "Luiza\n",
      "36\n"
     ]
    }
   ],
   "source": [
    "# 7.\tUm objeto de função é um valor que pode ser atribuído a uma variável ou passado como argumento. \n",
    "# Por exemplo, do_twice é uma função que toma um objeto de função como argumento e o chama duas vezes:\n",
    "\n",
    "# def do_twice(f): \n",
    "#   f()\n",
    "#   f()\n",
    "\n",
    "# \tAltere do_twice para que receba dois argumentos, um objeto de função e um valor, e chame a função duas vezes, passando o valor como um argumento.\n",
    "def do_twice(f, num1):\n",
    "    f()\n",
    "    f()\n",
    "    num1 = (input(\"Digite sua idade: \"))\n",
    "    print (num1)\n",
    "    \n",
    "def meu_nome():\n",
    "    print(input(\"Digite seu nome: \"))\n",
    "   \n",
    "do_twice(meu_nome, 25)\n"
   ]
  },
  {
   "cell_type": "code",
   "execution_count": null,
   "metadata": {},
   "outputs": [],
   "source": [
    "# 8.\tCrie um programa que faça a impressão de uma mensagem e a multiplicação de dois números. Utilize módulos e funções para resolução desse problema.\n",
    "import print_msg\n",
    "import multiplicar\n",
    "\n",
    "# a)\tO usuário deve entrar com a mensagem e com o uso de módulos e funções, essa mensagem deve ser impressa na tela\n",
    "msg = input(\"Digite sua mensagem: \")\n",
    "\n",
    "print_msg.msg(msg)\n",
    "\n",
    "# b)\tO usuário deve entrar com os valores dos dois multiplicadores e o programa deve exibir o resultado na tela.\n",
    "num1 = int(input('Digite o primeiro número: '))\n",
    "num2 = int(input('Digite o segundo número: '))\n",
    "\n",
    "print(\"O resultado da multiplicação é:\" , multiplicar.multi(num1, num2))"
   ]
  },
  {
   "cell_type": "code",
   "execution_count": null,
   "metadata": {},
   "outputs": [],
   "source": []
  }
 ],
 "metadata": {
  "interpreter": {
   "hash": "926a0b644c70ad0d0d766362c0ed00d32ad85b91ad46a7d6a8080827a4f073d6"
  },
  "kernelspec": {
   "display_name": "Python 3.8.5 64-bit ('base': conda)",
   "language": "python",
   "name": "python3"
  },
  "language_info": {
   "codemirror_mode": {
    "name": "ipython",
    "version": 3
   },
   "file_extension": ".py",
   "mimetype": "text/x-python",
   "name": "python",
   "nbconvert_exporter": "python",
   "pygments_lexer": "ipython3",
   "version": "3.8.5"
  },
  "orig_nbformat": 4
 },
 "nbformat": 4,
 "nbformat_minor": 2
}
