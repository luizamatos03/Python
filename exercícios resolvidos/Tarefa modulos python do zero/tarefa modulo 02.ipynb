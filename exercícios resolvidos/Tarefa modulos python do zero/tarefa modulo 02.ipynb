{
 "cells": [
  {
   "cell_type": "code",
   "execution_count": null,
   "metadata": {},
   "outputs": [],
   "source": [
    "# 1.\tCrie um programa que leia nome, sexo e idade de várias pessoas, guardando os dados de cada pessoa em um dicionário e \n",
    "# todos os dicionários em uma lista. No final, mostre:\n",
    "# a)\tQuantas pessoas foram cadastradas\n",
    "# b)\tA média de idade\n",
    "# c)\tUma lista com as mulheres\n",
    "# d)\tUma lista de pessoas com idade acima da média\n",
    "nome = []\n",
    "idade = []\n",
    "mulher = []\n",
    "media = []\n",
    "cont = idademedia = 0\n",
    "\n",
    "d1 = dict()\n",
    "prog = str(input(\"Deseja iniciar o cadastro? s / n: \"))\n",
    "\n",
    "while prog == 's':\n",
    "    d1 = {\n",
    "        'nome': str(input('Digite o nome: ')),\n",
    "        'idade': int(input('Digite a idade: ')),\n",
    "        'sexo': str(input('Digite o sexo F / M: '))\n",
    "    }\n",
    "    if d1['sexo'] == 'F' or d1['sexo'] == 'f':\n",
    "        mulher.append(d1['nome'])\n",
    "    nome.append(d1['nome'])\n",
    "    idade.append(d1['idade'])\n",
    "    if d1['idade'] > idademedia:\n",
    "        media.append(d1[\"nome\"])\n",
    "    cont += 1\n",
    "    idademedia = float(sum(idade) / cont)   \n",
    "    prog = str(input(\"Deseja continuar o cadastro? s / n: \"))\n",
    "        \n",
    "#A)\n",
    "print (\"A quantidade de pessoas cadastradas é:\", cont)\n",
    "#B)\n",
    "print (\"A média de idade é:\", idademedia )\n",
    "#C)\n",
    "print (\"As mulheres cadastradas são:\", mulher)\n",
    "#D)\n",
    "print (\"As pessoas com idade acima da média são:\", media)"
   ]
  },
  {
   "cell_type": "code",
   "execution_count": null,
   "metadata": {},
   "outputs": [],
   "source": [
    "#2.\tEscreva um programa Python para criar uma tupla com números de 1 a 4 e imprima um item\n",
    "\n",
    "tupla1 = (1,2,3,4)\n",
    "\n",
    "print (tupla1 [2])\n",
    "print(type(tupla1))"
   ]
  },
  {
   "cell_type": "code",
   "execution_count": 4,
   "metadata": {},
   "outputs": [
    {
     "name": "stdout",
     "output_type": "stream",
     "text": [
      "aluno\n",
      "universidade\n",
      "nota\n",
      "resultado\n",
      "<class 'tuple'>\n",
      "<class 'str'>\n",
      "<class 'str'>\n",
      "<class 'str'>\n",
      "<class 'str'>\n"
     ]
    }
   ],
   "source": [
    "#3.\tEscreva um programa Python para desempacotar uma tupla em várias variáveis: considere uma tupla = (‘aluno’,’universidade’, ‘nota’, ‘resultado’) \n",
    "# e as variáveis w, x, y, z. Consulte o tipo de dados de cada uma das variáveis e impriva os valores de cada uma delas.\n",
    "\n",
    "tupla2 = ('aluno', 'universidade', 'nota', 'resultado')\n",
    "\n",
    "w, x, y, z = tupla2\n",
    "\n",
    "print(w)\n",
    "print(x)\n",
    "print(y)\n",
    "print(z)\n",
    "\n",
    "print(type(tupla2))\n",
    "print(type(w))\n",
    "print(type(x))\n",
    "print(type(y))\n",
    "print(type(z))"
   ]
  },
  {
   "cell_type": "code",
   "execution_count": null,
   "metadata": {},
   "outputs": [],
   "source": [
    "# 4.\tCrie 3 conjuntos conforme estrutura a seguir:\n",
    "# setx = set([\"apple\", \"mango\"])\n",
    "# sety = set([\"mango\", \"orange\"]) \n",
    "# setz = set([\"mango\"])\n",
    "# Faça as seguintes operações sobre conjuntos:\n",
    "# a)\tFaça a união dos três conjuntos e imprima o resultado\n",
    "\n",
    "setx = set(['apple', 'mango'])\n",
    "sety = set(['mango', 'orange'])\n",
    "setz = set(['mango'])\n",
    "\n",
    "uniao = setx | sety | setz\n",
    "print (uniao)\n",
    "\n",
    "\n",
    "#b)\tVerifique quais os elementos comuns do conjunto setx e sety e imprima o resultado\n",
    "setx = set(['apple', 'mango'])\n",
    "sety = set(['mango', 'orange'])\n",
    "\n",
    "comum = setx & sety\n",
    "print (comum)\n",
    "\n",
    "# c)\tVerifique se o conjunto setx é subconjunto do conjunto sety e setz utilizando\n",
    "setx = set(['apple', 'mango'])\n",
    "sety = set(['mango', 'orange'])\n",
    "setz = set(['mango'])\n",
    "\n",
    "print(setx.issubset(sety))\n",
    "print(setx.issubset(setz))\n",
    "\n",
    "\n",
    "#d)\tVerifique quais elementos do conjunto setx não existem em sety\n",
    "setx = set(['apple', 'mango'])\n",
    "sety = set(['mango', 'orange'])\n",
    "\n",
    "conj = set()\n",
    "conj = setx - sety\n",
    "\n",
    "print (conj)\n"
   ]
  },
  {
   "cell_type": "code",
   "execution_count": null,
   "metadata": {},
   "outputs": [],
   "source": []
  },
  {
   "cell_type": "code",
   "execution_count": null,
   "metadata": {},
   "outputs": [],
   "source": []
  },
  {
   "cell_type": "code",
   "execution_count": null,
   "metadata": {},
   "outputs": [],
   "source": []
  },
  {
   "cell_type": "code",
   "execution_count": null,
   "metadata": {},
   "outputs": [],
   "source": []
  },
  {
   "cell_type": "code",
   "execution_count": null,
   "metadata": {},
   "outputs": [],
   "source": []
  },
  {
   "cell_type": "code",
   "execution_count": null,
   "metadata": {},
   "outputs": [],
   "source": []
  }
 ],
 "metadata": {
  "interpreter": {
   "hash": "926a0b644c70ad0d0d766362c0ed00d32ad85b91ad46a7d6a8080827a4f073d6"
  },
  "kernelspec": {
   "display_name": "Python 3.8.5 64-bit ('base': conda)",
   "language": "python",
   "name": "python3"
  },
  "language_info": {
   "codemirror_mode": {
    "name": "ipython",
    "version": 3
   },
   "file_extension": ".py",
   "mimetype": "text/x-python",
   "name": "python",
   "nbconvert_exporter": "python",
   "pygments_lexer": "ipython3",
   "version": "3.8.5"
  },
  "orig_nbformat": 4
 },
 "nbformat": 4,
 "nbformat_minor": 2
}
