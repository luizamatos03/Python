{
 "cells": [
  {
   "cell_type": "code",
   "execution_count": null,
   "metadata": {},
   "outputs": [],
   "source": [
    "#1\tFaça um programa que imprima seu nome completo na tela\n",
    "\n",
    "print(\"Meu nome é Luiza Matos de Oliveira\")"
   ]
  },
  {
   "cell_type": "code",
   "execution_count": null,
   "metadata": {},
   "outputs": [],
   "source": [
    "#2.\tEscreva um programa que exiba o resultado de 5a x 3b onde a = 2 e b = 5\n",
    "\n",
    "a = 2\n",
    "b = 5\n",
    "\n",
    "mult = 5 * a * 3 * b\n",
    "\n",
    "print (mult)"
   ]
  },
  {
   "cell_type": "code",
   "execution_count": null,
   "metadata": {},
   "outputs": [],
   "source": [
    "#3.\tModifique o programa anterior, inserindo uma terceira variável c = 5 e imprima a soma das três variáveis\n",
    "a = 2\n",
    "b = 5\n",
    "c = 5\n",
    "\n",
    "soma = a + b + c\n",
    "\n",
    "print (soma)"
   ]
  },
  {
   "cell_type": "code",
   "execution_count": null,
   "metadata": {},
   "outputs": [],
   "source": [
    "#4.\tEscreva um programa que leia dois números e que pergunte qual operação você deseja realizar. \n",
    "# Você deve poder calcular a soma (+), subtração(-), multiplicação(*) e divisão(/). Exiba o resultado da operação.\n",
    "\n",
    "num1 = int(input(\"Insira o primeiro número: \"))\n",
    "num2 = int(input(\"Insira o segundo número: \"))\n",
    "\n",
    "oper = int(input(\"Escolha a operação: 1-soma, 2-subtração, 3-multiplicação, 4- divisão:\"))\n",
    "\n",
    "if oper == 1:\n",
    "    print (\"O resultado da soma é\" , num1 + num2)\n",
    "elif oper == 2:\n",
    "    print (\"O resultado da subtração é\", num1 - num2)\n",
    "elif oper == 3:\n",
    "    print (\"O resultado da multiplicação é\", num1 * num2)\n",
    "elif oper == 4:\n",
    "    print (\"O resultado da divisão é\", num1 // num2)"
   ]
  },
  {
   "cell_type": "code",
   "execution_count": null,
   "metadata": {},
   "outputs": [],
   "source": [
    "#5.\tEscreva um programa para contar de 1 até 10.\n",
    "#letra a\n",
    "x = 0\n",
    "\n",
    "while x <= 10:\n",
    "    print (x)\n",
    "    x = x +1"
   ]
  },
  {
   "cell_type": "code",
   "execution_count": 1,
   "metadata": {},
   "outputs": [
    {
     "name": "stdout",
     "output_type": "stream",
     "text": [
      "1\n",
      "2\n",
      "3\n",
      "4\n",
      "5\n",
      "6\n",
      "7\n",
      "8\n",
      "9\n",
      "10\n"
     ]
    }
   ],
   "source": [
    "##Letra b\n",
    "\n",
    "for i in range(1, 11):\n",
    "    print(i)"
   ]
  },
  {
   "cell_type": "code",
   "execution_count": null,
   "metadata": {},
   "outputs": [],
   "source": [
    "#6.\tEscreva um programa para contar quantos números pares e ímpares existentes entre 1 e 10 bem como a soma deles.\n",
    "#Letra a\n",
    "\n",
    "x = 0\n",
    "somap = 0\n",
    "somaim = 0\n",
    "num_par = []\n",
    "num_impar =[]\n",
    "\n",
    "\n",
    "while x <= 10:\n",
    "    if x % 2 == 0:\n",
    "        num_par.append(x)\n",
    "        somap = somap + x\n",
    "        x = x + 1\n",
    "    else:\n",
    "        num_impar.append(x)\n",
    "        somaim = somaim + x\n",
    "        x = x +1\n",
    "\n",
    "print ((num_impar), \"A lista de impares tem\", len(num_impar), \"números.\")\n",
    "print (\"A soma dos impares é %d\" % somaim)\n",
    "print ((num_par), \"A lista de pares tem\", len(num_par), \"números.\")\n",
    "print (\"A soma dos pares é %d\" % somap)"
   ]
  },
  {
   "cell_type": "code",
   "execution_count": null,
   "metadata": {},
   "outputs": [],
   "source": [
    "#Letra b\n",
    "\n",
    "num_par = []\n",
    "num_impar =[]\n",
    "\n",
    "for i in range(0, 11):\n",
    "    if i % 2 == 0:\n",
    "        num_par.append(i)\n",
    "    elif i % 2 != 0:\n",
    "        num_impar.append(i)\n",
    "    \n",
    "print (\"A lista dos pares tem\", len (num_par) , \"numeros.\")\n",
    "print (\"A soma dos pares é\" , sum (num_par))\n",
    "print (\"A lista dos impares tem\", len (num_impar) , \"numeros.\")\n",
    "print (\"A soma dos impares é\" , sum (num_impar))"
   ]
  },
  {
   "cell_type": "code",
   "execution_count": null,
   "metadata": {},
   "outputs": [],
   "source": [
    "#7.\tEscreva um programa para resolver equações do segundo grau representadas por ax2+bx+c usando a Fórmula de Bhaskara.\n",
    "#Letra a)\tsem usar o módulo math\n",
    "\n",
    "a = int(input('Entre com o valor de a: '))\n",
    "b = int(input('Entre com o valor de b: '))\n",
    "c = int(input('Entre com o valor de c: '))\n",
    "\n",
    "delta = (b ** 2) - 4 * a * c\n",
    "\n",
    "if  a == 0:\n",
    "    print(\"O valor de a não pode ser 0.\")\n",
    "elif delta < 0:\n",
    "    print(\"As raízes não são números reais.\")\n",
    "else:\n",
    "    x1 = (-b + delta ** 0.5) / (2 * a)\n",
    "    x2 = (-b - delta ** 0.5) / (2 * a)\n",
    "\n",
    "    print(\"As raízes são: %d\" % x1, x2)"
   ]
  },
  {
   "cell_type": "code",
   "execution_count": 4,
   "metadata": {},
   "outputs": [],
   "source": [
    "#Letra b) usando o módulo math\n",
    "#      c) Teste seu programa com os coeficientes:\n",
    "\n",
    "# a=1,b=-5,c=6 \n",
    "# a=1,b=0,c=-9 \n",
    "# a=5,b=-45,c=0 \n",
    "# a=1,b=-1,c=-12 \n",
    "# a=1,b=-6,c=10\n",
    "\n",
    "import math\n",
    "x = 0\n",
    "raizes = []\n",
    "\n",
    "def bhaskara (a,b,c):\n",
    "    delta = (b ** 2) - 4 * a * c\n",
    "    if delta < 0:\n",
    "        return None\n",
    "    else:\n",
    "        raizes = []\n",
    "        m1 = math.sqrt(delta)\n",
    "        r1 = (-b + m1) / (2 * a)\n",
    "        raizes.append(r1)\n",
    "        r2 = (-b - m1) / (2 * a)\n",
    "        raizes.append(r2)\n",
    "        return raizes\n",
    "\n",
    "\n",
    "x = 0\n",
    "raizes = []\n",
    "a = int(input(\"Insira o valor de a: \"))\n",
    "b = int(input(\"Insira o valor de b: \"))\n",
    "c = int(input(\"Insira o valor de c: \"))\n",
    "\n",
    "result = bhaskara(a, b, c)\n",
    "print (\"As raízes são:\",  result)"
   ]
  },
  {
   "cell_type": "code",
   "execution_count": null,
   "metadata": {},
   "outputs": [],
   "source": [
    "#9.\tConsiderando a string s = 'Mentorama' escreva um programa que:\n",
    "#a)\tconverta a string para maiúsculo, em seguida\n",
    "\n",
    "s = 'Mentorama'\n",
    "\n",
    "s.upper()\n"
   ]
  },
  {
   "cell_type": "code",
   "execution_count": null,
   "metadata": {},
   "outputs": [],
   "source": [
    "# Letra b)\timprima-a de trás para frente\n",
    "\n",
    "s = 'Mentorama'\n",
    "\n",
    "print(s[::-1])"
   ]
  },
  {
   "cell_type": "code",
   "execution_count": null,
   "metadata": {},
   "outputs": [],
   "source": [
    "#Letra c) imprima somente as vogais\n",
    "\n",
    "s = 'Mentorama'\n",
    "\n",
    "for letra in str(s):\n",
    "    if letra == 'a':\n",
    "        print (\"Encontrada a letra\" ,letra)\n",
    "    if letra == 'e':\n",
    "        print (\"Encontrada a letra\" ,letra)\n",
    "    if letra == 'i':\n",
    "        print (\"Encontrada a letra\" ,letra)\n",
    "    if letra == 'o':\n",
    "        print (\"Encontrada a letra\" ,letra)\n",
    "    if letra == 'u':\n",
    "        print (\"Encontrada a letra\" ,letra)"
   ]
  },
  {
   "cell_type": "code",
   "execution_count": 6,
   "metadata": {},
   "outputs": [
    {
     "name": "stdout",
     "output_type": "stream",
     "text": [
      "Nome: João da Silva\n",
      "Telefone: (11) 3333-3333\n",
      "Idade: 25\n",
      "Cidade: São Paulo\n"
     ]
    }
   ],
   "source": [
    "#10.\tEscreva um programa que receba como entrada do usuário o nome “João” sobrenome “da Silva”, idade “25”, Cidade “São Paulo”, ddd “11”, \n",
    "# telefone “3333-3333” e faça as seguintes instruções:\n",
    "\n",
    "# a)\timprima na tela o nome completo em uma única linha\n",
    "# b)\timprima na tela o telefone com ddd em uma única linha\n",
    "# c)\tImprima na tela a idade\n",
    "# d)\tImprima na tela a cidade \n",
    "\n",
    "\n",
    "nome = 'João'\n",
    "sobrenome = 'da Silva'\n",
    "idade = 25\n",
    "cidade = 'São Paulo'\n",
    "ddd = \"(11)\"\n",
    "tel = \"3333-3333\"\n",
    "\n",
    "print ('Nome: %s' % nome, sobrenome)\n",
    "print ('Telefone: %s' % ddd, tel)\n",
    "print ('Idade: %d' % idade)\n",
    "print ('Cidade: %s' % cidade)"
   ]
  }
 ],
 "metadata": {
  "interpreter": {
   "hash": "926a0b644c70ad0d0d766362c0ed00d32ad85b91ad46a7d6a8080827a4f073d6"
  },
  "kernelspec": {
   "display_name": "Python 3.8.5 64-bit ('base': conda)",
   "language": "python",
   "name": "python3"
  },
  "language_info": {
   "codemirror_mode": {
    "name": "ipython",
    "version": 3
   },
   "file_extension": ".py",
   "mimetype": "text/x-python",
   "name": "python",
   "nbconvert_exporter": "python",
   "pygments_lexer": "ipython3",
   "version": "3.8.5"
  },
  "orig_nbformat": 4
 },
 "nbformat": 4,
 "nbformat_minor": 2
}
