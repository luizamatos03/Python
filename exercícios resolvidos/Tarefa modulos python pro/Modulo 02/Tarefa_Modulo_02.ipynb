{
  "cells": [
    {
      "cell_type": "code",
      "execution_count": 4,
      "metadata": {
        "colab": {
          "base_uri": "https://localhost:8080/"
        },
        "id": "uMpaXXvqUZN_",
        "outputId": "7ae4477a-126f-47c3-e71e-e37d940f4a65"
      },
      "outputs": [
        {
          "name": "stdout",
          "output_type": "stream",
          "text": [
            "0 1 1 2 3 5 8 13 21 34 55 89 144 233 377 610 987 1597 2584 4181 Fim\n"
          ]
        }
      ],
      "source": [
        "def fibonacci(num):\n",
        "  lista = []\n",
        "  anterior = 0\n",
        "  proximo = 1\n",
        "  lista.append(anterior)\n",
        "  lista.append(proximo)\n",
        "  iteracao = num - 2\n",
        "  while iteracao != 0:\n",
        "    soma = anterior + proximo\n",
        "    lista.append(soma)\n",
        "    anterior = proximo\n",
        "    proximo = soma\n",
        "    iteracao -= 1\n",
        "  return lista\n",
        "\n",
        "def iterator(flist):\n",
        "  itLista = iter(flist)\n",
        "  while itLista:\n",
        "    try:\n",
        "      print(next(itLista), end = ' ')\n",
        "    except StopIteration:\n",
        "      print('Fim')\n",
        "      break\n",
        "\n",
        "lista = fibonacci(20)\n",
        "iterator(lista)"
      ]
    },
    {
      "cell_type": "code",
      "execution_count": 5,
      "metadata": {
        "colab": {
          "base_uri": "https://localhost:8080/"
        },
        "id": "JXtVAUyz-oZy",
        "outputId": "9a68a308-3441-4a74-e8a0-6b88115b25d5"
      },
      "outputs": [
        {
          "data": {
            "text/plain": [
              "{1: 0,\n",
              " 2: 1,\n",
              " 3: 1,\n",
              " 4: 2,\n",
              " 5: 3,\n",
              " 6: 5,\n",
              " 7: 8,\n",
              " 8: 13,\n",
              " 9: 21,\n",
              " 10: 34,\n",
              " 11: 55,\n",
              " 12: 89,\n",
              " 13: 144,\n",
              " 14: 233,\n",
              " 15: 377,\n",
              " 16: 610,\n",
              " 17: 987,\n",
              " 18: 1597,\n",
              " 19: 2584,\n",
              " 20: 4181}"
            ]
          },
          "execution_count": 5,
          "metadata": {},
          "output_type": "execute_result"
        }
      ],
      "source": [
        "dic_fibo = { k + 1 : v for k,v in enumerate(lista)}\n",
        "dic_fibo"
      ]
    },
    {
      "cell_type": "code",
      "execution_count": null,
      "metadata": {
        "id": "p7e4UkiX_0Nr"
      },
      "outputs": [],
      "source": []
    }
  ],
  "metadata": {
    "colab": {
      "authorship_tag": "ABX9TyOK+8D6MPl5rOYM5iPFY7Wx",
      "name": "Tarefa Modulo 02.ipynb",
      "provenance": []
    },
    "kernelspec": {
      "display_name": "Python 3",
      "name": "python3"
    },
    "language_info": {
      "codemirror_mode": {
        "name": "ipython",
        "version": 3
      },
      "file_extension": ".py",
      "mimetype": "text/x-python",
      "name": "python",
      "nbconvert_exporter": "python",
      "pygments_lexer": "ipython3",
      "version": "3.8.5"
    }
  },
  "nbformat": 4,
  "nbformat_minor": 0
}
