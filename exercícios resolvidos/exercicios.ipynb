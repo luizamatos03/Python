{
 "cells": [
  {
   "cell_type": "code",
   "execution_count": null,
   "metadata": {},
   "outputs": [],
   "source": [
    "#ex 01\n",
    "print('Olá, mundo!')"
   ]
  },
  {
   "cell_type": "code",
   "execution_count": null,
   "metadata": {},
   "outputs": [],
   "source": [
    "#ex 02 \n",
    "nome = input('Digite seu nome: ')\n",
    "print('É um prazer te conhecer, \\033[7;35;43m{}\\033[m!'.format(nome))"
   ]
  },
  {
   "cell_type": "code",
   "execution_count": null,
   "metadata": {},
   "outputs": [],
   "source": [
    "#ex 03 Crie um programa que leia dois números e mostre a soma entre eles.\n",
    "n1 = int(input('Digite o primeiro numero:'))\n",
    "n2 = int(input('Digite o segundo numero:'))\n",
    "s = n1+n2\n",
    "\n",
    "print('A soma entre {} e {} é {}'.format(n1, n2, s))"
   ]
  },
  {
   "cell_type": "code",
   "execution_count": null,
   "metadata": {},
   "outputs": [],
   "source": [
    "#ex 04 Faça um programa que leia algo pelo teclado e mostre na tela o seu tipo primitivo e todas as informações possíveis sobre ele.\n",
    "x = input('Digite algo: ')\n",
    "print(type(x))\n",
    "print('É alfanumérico?',x.isalnum())\n",
    "print('É numérico?',x.isalpha())\n",
    "print('É decimal?',x.isdecimal())\n",
    "print('Está em caps?',x.isupper())\n",
    "print('Está em minúsculas?',x.islower())\n",
    "print('Termina com a letra a?',x.endswith('a'))"
   ]
  },
  {
   "cell_type": "code",
   "execution_count": 1,
   "metadata": {},
   "outputs": [
    {
     "name": "stdout",
     "output_type": "stream",
     "text": [
      "O antecessor de 3 é 2. O sucessor de 3 é 4.\n"
     ]
    }
   ],
   "source": [
    "#Ex 05 Faça um programa que leia um número Inteiro e mostre na tela o seu sucessor e seu antecessor.\n",
    "x = int(input('Digite um número: '))\n",
    "\n",
    "print('O antecessor de {} é {}.'.format(x, x-1), end=\" \")\n",
    "print('O sucessor de {} é {}.'.format(x, x+1))"
   ]
  },
  {
   "cell_type": "code",
   "execution_count": null,
   "metadata": {},
   "outputs": [],
   "source": [
    "#Ex 06 Crie um algoritmo que leia um número e mostre o seu dobro, triplo e raiz quadrada.\n",
    "\n",
    "y = int(input('Digite um número: '))\n",
    "\n",
    "print('O dobro de {} é {}'.format(y, y*2))\n",
    "print('O triplo de {} é {}'.format(y, y*3))\n",
    "print('A raiz quadrada de {} é {:.2f}'.format(y, y**(1/2)))"
   ]
  },
  {
   "cell_type": "code",
   "execution_count": null,
   "metadata": {},
   "outputs": [],
   "source": [
    "#ex 07 Desenvolva um programa que leia as duas notas de um aluno, calcule e mostre a sua média.\n",
    "n1 = float(input('Digite a primeira nota: '))\n",
    "n2 = float(input('Digite a segunda nota: '))\n",
    "\n",
    "media = (n1+n2)/2\n",
    "\n",
    "print('A média é {:.1f}'.format(media))"
   ]
  },
  {
   "cell_type": "code",
   "execution_count": null,
   "metadata": {},
   "outputs": [],
   "source": [
    "#ex 08 Escreva um programa que leia um valor em metros e o exiba convertido em centímetros e milímetros.\n",
    "m = float(input('Insira os metros: '))\n",
    "\n",
    "km = m/1000\n",
    "hm = m/100\n",
    "deca= m /10\n",
    "dec= m*10\n",
    "cent = m*100\n",
    "mil = m*1000\n",
    "\n",
    "print('{} metros equivalem a'.format(m))\n",
    "print('{} kilometros, {} hectometros, {} decametros'.format(km, hm, deca))     \n",
    "print('{} decímetros, {} centímetros e a {} milímetros'.format(dec, cent, mil))"
   ]
  },
  {
   "cell_type": "code",
   "execution_count": null,
   "metadata": {},
   "outputs": [],
   "source": [
    "#ex 09 Faça um programa que leia um número Inteiro qualquer e mostre na tela a sua tabuada.\n",
    "a = int(input('Digite um número: '))\n",
    "\n",
    "print('A tabuada de {} é'.format(a))\n",
    "print('{} x 1 = {}'.format(a, a*1))\n",
    "print('{} x 2 = {}'.format(a, a*2))\n",
    "print('{} x 3 = {}'.format(a, a*3))\n",
    "print('{} x 4 = {}'.format(a, a*4))\n",
    "print('{} x 5 = {}'.format(a, a*5))\n",
    "print('{} x 6 = {}'.format(a, a*6))\n",
    "print('{} x 7 = {}'.format(a, a*7))\n",
    "print('{} x 8 = {}'.format(a, a*8))\n",
    "print('{} x 9 = {}'.format(a, a*9))\n",
    "print('{} x 10 = {}'.format(a, a*10))"
   ]
  },
  {
   "cell_type": "code",
   "execution_count": null,
   "metadata": {},
   "outputs": [],
   "source": [
    "#ex 10 Crie um programa que leia quanto dinheiro uma pessoa tem na carteira e mostre quantos dólares ela pode comprar.\n",
    "\n",
    "din = float(input('Insira o valor na carteira: R$'))\n",
    "\n",
    "dolar = din/5.60\n",
    "\n",
    "print('Você pode comprar {:.2f} dolares'.format(dolar))"
   ]
  },
  {
   "cell_type": "code",
   "execution_count": 2,
   "metadata": {},
   "outputs": [
    {
     "name": "stdout",
     "output_type": "stream",
     "text": [
      "A parede tem 24.0 m² e precisa de 12.0 litros de tinta\n"
     ]
    }
   ],
   "source": [
    "#ex 11 Faça um programa que leia a largura e a altura de uma parede em metros, calcule a sua área e a quantidade de tinta necessária para pintá-la, \n",
    "#sabendo que cada litro de tinta pinta uma área de 2 metros quadrados.\n",
    "\n",
    "larg = float(input('Insira a largura: '))\n",
    "alt = float(input('Insira a altura: '))\n",
    "\n",
    "area = larg*alt\n",
    "litro = area/2\n",
    "\n",
    "print('A parede tem {:.3} m² e precisa de {:.1f} litros de tinta'.format(area, litro))"
   ]
  },
  {
   "cell_type": "code",
   "execution_count": null,
   "metadata": {},
   "outputs": [],
   "source": [
    "#ex 12 Faça um algoritmo que leia o preço de um produto e mostre seu novo preço, com 5% de desconto.\n",
    "preco = float(input('Insira o preço: '))\n",
    "\n",
    "desc = preco-(preco*5/100)\n",
    "\n",
    "print('O preço com desconto é {:.2f}'.format(desc))"
   ]
  },
  {
   "cell_type": "code",
   "execution_count": null,
   "metadata": {},
   "outputs": [],
   "source": [
    "#ex 13 Faça um algoritmo que leia o salário de um funcionário \n",
    "#e mostre seu novo salário, com 15% de aumento.\n",
    "\n",
    "salario = float(input('Insira o salário: '))\n",
    "\n",
    "novo = salario*1.15\n",
    "\n",
    "print('O valor do novo salario com 15% de aumento é {:.2f}'.format(novo))"
   ]
  },
  {
   "cell_type": "code",
   "execution_count": null,
   "metadata": {},
   "outputs": [],
   "source": [
    "#ex 14 Escreva um programa que converta uma temperatura digitando em graus Celsius e converta para graus Fahrenheit.\n",
    "\n",
    "\n",
    "temp = float(input('Informe a temperatura em ºC: '))\n",
    "\n",
    "farh = (temp*1.8) + 32\n",
    "kelvin = temp + 273\n",
    "\n",
    "print('A temperatura em Fahrenheit é {:.2f}ºF'.format(farh))\n",
    "print('A temperatura em Kelvin é {:.2f}ºK'.format(kelvin))"
   ]
  },
  {
   "cell_type": "code",
   "execution_count": null,
   "metadata": {},
   "outputs": [],
   "source": [
    "#ex 15 Escreva um programa que pergunte a quantidade de Km percorridos por um carro alugado e a quantidade de dias pelos quais ele foi alugado. Calcule o preço a pagar, \n",
    "#sabendo que o carro custa R$60 por dia e R$0,15 por Km rodado.\n",
    "\n",
    "dias = int(input('Quantos dias de aluguel? '))\n",
    "km = float(input('Quantos km rodados? '))\n",
    "\n",
    "preco = (dias*60)+(km*0.15)\n",
    "\n",
    "print('O preço do aluguel é {:.2f}'.format(preco))"
   ]
  },
  {
   "cell_type": "code",
   "execution_count": null,
   "metadata": {},
   "outputs": [],
   "source": []
  },
  {
   "cell_type": "code",
   "execution_count": null,
   "metadata": {},
   "outputs": [],
   "source": []
  },
  {
   "cell_type": "code",
   "execution_count": null,
   "metadata": {},
   "outputs": [],
   "source": []
  }
 ],
 "metadata": {
  "interpreter": {
   "hash": "926a0b644c70ad0d0d766362c0ed00d32ad85b91ad46a7d6a8080827a4f073d6"
  },
  "kernelspec": {
   "display_name": "Python 3.8.5 64-bit ('base': conda)",
   "language": "python",
   "name": "python3"
  },
  "language_info": {
   "codemirror_mode": {
    "name": "ipython",
    "version": 3
   },
   "file_extension": ".py",
   "mimetype": "text/x-python",
   "name": "python",
   "nbconvert_exporter": "python",
   "pygments_lexer": "ipython3",
   "version": "3.8.5"
  },
  "orig_nbformat": 4
 },
 "nbformat": 4,
 "nbformat_minor": 2
}
