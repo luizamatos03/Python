{
  "nbformat": 4,
  "nbformat_minor": 0,
  "metadata": {
    "colab": {
      "name": "testes",
      "provenance": [],
      "authorship_tag": "ABX9TyOm/q+rjVoIfXCoyCY52j1p"
    },
    "kernelspec": {
      "name": "python3",
      "display_name": "Python 3"
    },
    "language_info": {
      "name": "python"
    }
  },
  "cells": [
    {
      "cell_type": "code",
      "execution_count": null,
      "metadata": {
        "colab": {
          "base_uri": "https://localhost:8080/"
        },
        "id": "wkAkg8aALjrt",
        "outputId": "1b995e2c-a15b-406e-acb0-538944b30ed4"
      },
      "outputs": [
        {
          "output_type": "stream",
          "name": "stdout",
          "text": [
            "1 2 3 4 5 6 7 8 9 10 11 12 13 14 15 16 17 18 19 "
          ]
        }
      ],
      "source": [
        "lista =[]\n",
        "\n",
        "for i in range (1,20):\n",
        "  lista.append(i)\n",
        "  print(i, end = ' ')"
      ]
    },
    {
      "cell_type": "code",
      "source": [
        "itLista = iter(lista)\n",
        "\n",
        "while itLista:\n",
        "  try:\n",
        "    print(next(itLista), end = ' ')\n",
        "  except StopIteration:\n",
        "    #print('Fim')\n",
        "    break"
      ],
      "metadata": {
        "colab": {
          "base_uri": "https://localhost:8080/"
        },
        "id": "cOF94QyjLuFz",
        "outputId": "5bb52215-bc13-4fef-9557-17138a42badc"
      },
      "execution_count": null,
      "outputs": [
        {
          "output_type": "stream",
          "name": "stdout",
          "text": [
            "1 2 3 4 5 6 7 8 9 10 11 12 13 14 15 16 17 18 19 "
          ]
        }
      ]
    },
    {
      "cell_type": "code",
      "source": [
        "#class SeqFibo:\n",
        "  #def __init__(self):\n",
        "   # pass\n",
        "\n",
        "  def fibonacci(seq):\n",
        "    lista = []\n",
        "    anterior = 0\n",
        "    proximo = 1\n",
        "    iterador = seq\n",
        "    print(anterior, end = ' ')\n",
        "    print(proximo, end =' ')\n",
        "    lista.append(anterior)\n",
        "    lista.append(proximo)\n",
        "    for i in range (1, iterador):\n",
        "      soma = anterior + proximo\n",
        "      lista.append(soma)\n",
        "      anterior = proximo\n",
        "      proximo = soma\n",
        "      print(proximo, end = ' ')\n",
        "  \n"
      ],
      "metadata": {
        "colab": {
          "base_uri": "https://localhost:8080/",
          "height": 135
        },
        "id": "Tdn6-ij2NCn9",
        "outputId": "1ad23438-2438-4826-eb5d-0a7cac3f1727"
      },
      "execution_count": 4,
      "outputs": [
        {
          "output_type": "error",
          "ename": "IndentationError",
          "evalue": "ignored",
          "traceback": [
            "\u001b[0;36m  File \u001b[0;32m\"<ipython-input-4-7525431843dd>\"\u001b[0;36m, line \u001b[0;32m5\u001b[0m\n\u001b[0;31m    def fibonacci(seq):\u001b[0m\n\u001b[0m    ^\u001b[0m\n\u001b[0;31mIndentationError\u001b[0m\u001b[0;31m:\u001b[0m unexpected indent\n"
          ]
        }
      ]
    },
    {
      "cell_type": "code",
      "source": [
        "def fibonacci(seq):\n",
        "    lista = []\n",
        "    anterior = 0\n",
        "    proximo = 1\n",
        "    iteracao = seq\n",
        "    lista.append(anterior)\n",
        "    lista.append(proximo)\n",
        "    if iteracao == 0:\n",
        "      print('Fim')\n",
        "    else:\n",
        "        soma = anterior + proximo\n",
        "        lista.append(soma)\n",
        "        anterior = proximo\n",
        "        proximo = soma\n",
        "        iteracao -= 1\n",
        "        return lista\n",
        "\n"
      ],
      "metadata": {
        "id": "afjvPlrGOXn1"
      },
      "execution_count": 16,
      "outputs": []
    },
    {
      "cell_type": "code",
      "source": [
        "fibonacci(20)\n"
      ],
      "metadata": {
        "colab": {
          "base_uri": "https://localhost:8080/"
        },
        "id": "ZgclgmAqU68Y",
        "outputId": "3d9622e7-9677-4fa7-8b8c-b1406c701633"
      },
      "execution_count": 17,
      "outputs": [
        {
          "output_type": "execute_result",
          "data": {
            "text/plain": [
              "[0, 1, 1]"
            ]
          },
          "metadata": {},
          "execution_count": 17
        }
      ]
    },
    {
      "cell_type": "code",
      "source": [
        "itfibo = iter(listafibo)\n",
        "\n",
        "while itfibo:\n",
        "  try:\n",
        "    print(next(itfibo), end = ' ')\n",
        "  except StopIteration:\n",
        "    break"
      ],
      "metadata": {
        "colab": {
          "base_uri": "https://localhost:8080/"
        },
        "id": "Qzi5jAa6WfVn",
        "outputId": "91a93273-ca8c-48e3-84f3-89310293c6e5"
      },
      "execution_count": null,
      "outputs": [
        {
          "output_type": "stream",
          "name": "stdout",
          "text": [
            "0 1 1 2 3 5 8 13 21 34 55 "
          ]
        }
      ]
    },
    {
      "cell_type": "code",
      "source": [
        "#dic comprehension  \n",
        "seq_fibonacci = {k + 1:v for k, v in enumerate(lista)}\n",
        "print(seq_fibonacci)"
      ],
      "metadata": {
        "colab": {
          "base_uri": "https://localhost:8080/",
          "height": 208
        },
        "id": "PpKLSJn0UFAx",
        "outputId": "c9d773be-599e-4a26-8b86-6a7cebc69b7f"
      },
      "execution_count": null,
      "outputs": [
        {
          "output_type": "error",
          "ename": "NameError",
          "evalue": "ignored",
          "traceback": [
            "\u001b[0;31m---------------------------------------------------------------------------\u001b[0m",
            "\u001b[0;31mNameError\u001b[0m                                 Traceback (most recent call last)",
            "\u001b[0;32m<ipython-input-15-396bd0177c68>\u001b[0m in \u001b[0;36m<module>\u001b[0;34m()\u001b[0m\n\u001b[1;32m      1\u001b[0m \u001b[0;31m#dic comprehension\u001b[0m\u001b[0;34m\u001b[0m\u001b[0;34m\u001b[0m\u001b[0;34m\u001b[0m\u001b[0m\n\u001b[0;32m----> 2\u001b[0;31m \u001b[0mseq_fibonacci\u001b[0m \u001b[0;34m=\u001b[0m \u001b[0;34m{\u001b[0m\u001b[0mk\u001b[0m \u001b[0;34m+\u001b[0m \u001b[0;36m1\u001b[0m\u001b[0;34m:\u001b[0m\u001b[0mv\u001b[0m \u001b[0;32mfor\u001b[0m \u001b[0mk\u001b[0m\u001b[0;34m,\u001b[0m \u001b[0mv\u001b[0m \u001b[0;32min\u001b[0m \u001b[0menumerate\u001b[0m\u001b[0;34m(\u001b[0m\u001b[0mlista\u001b[0m\u001b[0;34m)\u001b[0m\u001b[0;34m}\u001b[0m\u001b[0;34m\u001b[0m\u001b[0;34m\u001b[0m\u001b[0m\n\u001b[0m\u001b[1;32m      3\u001b[0m \u001b[0mprint\u001b[0m\u001b[0;34m(\u001b[0m\u001b[0mseq_fibonacci\u001b[0m\u001b[0;34m)\u001b[0m\u001b[0;34m\u001b[0m\u001b[0;34m\u001b[0m\u001b[0m\n",
            "\u001b[0;31mNameError\u001b[0m: name 'lista' is not defined"
          ]
        }
      ]
    },
    {
      "cell_type": "code",
      "source": [
        "\n",
        "def fibonacci(num):\n",
        "  lista = []\n",
        "  anterior = 0\n",
        "  proximo = 1\n",
        "  lista.append(anterior)\n",
        "  lista.append(proximo)\n",
        "  iteracao = num\n",
        "  while iteracao != 0:\n",
        "    soma = anterior + proximo\n",
        "    lista.append(soma)\n",
        "    anterior = proximo\n",
        "    proximo = soma\n",
        "    iteracao -= 1\n",
        "  return lista\n",
        "\n",
        "lista = fibonacci(20)\n",
        "\n",
        "itLista = iter(lista)\n",
        "while itLista:\n",
        "  try:\n",
        "    print(next(itLista), end = ' ')\n",
        "  except StopIteration:\n",
        "    print('Fim')\n",
        "    break\n",
        "\n",
        "dic_fibo = { k : v for k,v in enumerate(lista)}"
      ],
      "metadata": {
        "id": "uMpaXXvqUZN_",
        "colab": {
          "base_uri": "https://localhost:8080/"
        },
        "outputId": "7ae4477a-126f-47c3-e71e-e37d940f4a65"
      },
      "execution_count": 2,
      "outputs": [
        {
          "output_type": "stream",
          "name": "stdout",
          "text": [
            "0 1 1 2 3 5 8 13 21 34 55 89 144 233 377 610 987 1597 2584 4181 6765 10946 Fim\n"
          ]
        }
      ]
    },
    {
      "cell_type": "code",
      "source": [
        "itLista = iter(lista)\n",
        "while itLista:\n",
        "  try:\n",
        "    print(next(itLista), end = ' ')\n",
        "  except StopIteration:\n",
        "    print('Fim')\n",
        "    break"
      ],
      "metadata": {
        "colab": {
          "base_uri": "https://localhost:8080/"
        },
        "id": "qWqRhKxl9vb-",
        "outputId": "52d28833-ab49-4f32-d6c3-12fd3cc62082"
      },
      "execution_count": 28,
      "outputs": [
        {
          "output_type": "stream",
          "name": "stdout",
          "text": [
            "0 1 1 2 3 5 8 13 21 34 55 89 Fim\n"
          ]
        }
      ]
    },
    {
      "cell_type": "code",
      "source": [
        "dic_fibo = { k + 1 : v for k,v in enumerate(lista)}\n",
        "dic_fibo"
      ],
      "metadata": {
        "colab": {
          "base_uri": "https://localhost:8080/"
        },
        "id": "JXtVAUyz-oZy",
        "outputId": "9a68a308-3441-4a74-e8a0-6b88115b25d5"
      },
      "execution_count": 4,
      "outputs": [
        {
          "output_type": "execute_result",
          "data": {
            "text/plain": [
              "{0: 0,\n",
              " 1: 1,\n",
              " 2: 1,\n",
              " 3: 2,\n",
              " 4: 3,\n",
              " 5: 5,\n",
              " 6: 8,\n",
              " 7: 13,\n",
              " 8: 21,\n",
              " 9: 34,\n",
              " 10: 55,\n",
              " 11: 89,\n",
              " 12: 144,\n",
              " 13: 233,\n",
              " 14: 377,\n",
              " 15: 610,\n",
              " 16: 987,\n",
              " 17: 1597,\n",
              " 18: 2584,\n",
              " 19: 4181,\n",
              " 20: 6765,\n",
              " 21: 10946}"
            ]
          },
          "metadata": {},
          "execution_count": 4
        }
      ]
    },
    {
      "cell_type": "code",
      "source": [
        ""
      ],
      "metadata": {
        "id": "p7e4UkiX_0Nr"
      },
      "execution_count": null,
      "outputs": []
    }
  ]
}