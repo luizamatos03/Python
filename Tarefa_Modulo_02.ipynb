{
  "nbformat": 4,
  "nbformat_minor": 0,
  "metadata": {
    "colab": {
      "name": "Tarefa Modulo 02.ipynb",
      "provenance": [],
      "authorship_tag": "ABX9TyOK+8D6MPl5rOYM5iPFY7Wx"
    },
    "kernelspec": {
      "name": "python3",
      "display_name": "Python 3"
    },
    "language_info": {
      "name": "python"
    }
  },
  "cells": [
    {
      "cell_type": "code",
      "source": [
        "def fibonacci(num):\n",
        "  lista = []\n",
        "  anterior = 0\n",
        "  proximo = 1\n",
        "  lista.append(anterior)\n",
        "  lista.append(proximo)\n",
        "  iteracao = num\n",
        "  while iteracao != 0:\n",
        "    soma = anterior + proximo\n",
        "    lista.append(soma)\n",
        "    anterior = proximo\n",
        "    proximo = soma\n",
        "    iteracao -= 1\n",
        "  return lista\n",
        "\n",
        "lista = fibonacci(20)\n",
        "\n",
        "itLista = iter(lista)\n",
        "while itLista:\n",
        "  try:\n",
        "    print(next(itLista), end = ' ')\n",
        "  except StopIteration:\n",
        "    print('Fim')\n",
        "    break\n",
        "\n",
        "dic_fibo = { k : v for k,v in enumerate(lista)}"
      ],
      "metadata": {
        "id": "uMpaXXvqUZN_",
        "colab": {
          "base_uri": "https://localhost:8080/"
        },
        "outputId": "7ae4477a-126f-47c3-e71e-e37d940f4a65"
      },
      "execution_count": null,
      "outputs": [
        {
          "output_type": "stream",
          "name": "stdout",
          "text": [
            "0 1 1 2 3 5 8 13 21 34 55 89 144 233 377 610 987 1597 2584 4181 6765 10946 Fim\n"
          ]
        }
      ]
    },
    {
      "cell_type": "code",
      "source": [
        "dic_fibo = { k + 1 : v for k,v in enumerate(lista)}\n",
        "dic_fibo"
      ],
      "metadata": {
        "colab": {
          "base_uri": "https://localhost:8080/"
        },
        "id": "JXtVAUyz-oZy",
        "outputId": "9a68a308-3441-4a74-e8a0-6b88115b25d5"
      },
      "execution_count": null,
      "outputs": [
        {
          "output_type": "execute_result",
          "data": {
            "text/plain": [
              "{0: 0,\n",
              " 1: 1,\n",
              " 2: 1,\n",
              " 3: 2,\n",
              " 4: 3,\n",
              " 5: 5,\n",
              " 6: 8,\n",
              " 7: 13,\n",
              " 8: 21,\n",
              " 9: 34,\n",
              " 10: 55,\n",
              " 11: 89,\n",
              " 12: 144,\n",
              " 13: 233,\n",
              " 14: 377,\n",
              " 15: 610,\n",
              " 16: 987,\n",
              " 17: 1597,\n",
              " 18: 2584,\n",
              " 19: 4181,\n",
              " 20: 6765,\n",
              " 21: 10946}"
            ]
          },
          "metadata": {},
          "execution_count": 4
        }
      ]
    },
    {
      "cell_type": "code",
      "source": [
        ""
      ],
      "metadata": {
        "id": "p7e4UkiX_0Nr"
      },
      "execution_count": null,
      "outputs": []
    }
  ]
}